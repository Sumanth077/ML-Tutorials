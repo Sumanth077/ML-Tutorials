{
 "cells": [
  {
   "cell_type": "code",
   "execution_count": 6,
   "id": "11c2f0df",
   "metadata": {},
   "outputs": [
    {
     "data": {
      "text/plain": [
       "'/Users/sumanthpapareddy'"
      ]
     },
     "execution_count": 6,
     "metadata": {},
     "output_type": "execute_result"
    }
   ],
   "source": [
    "import os\n",
    "os.getcwd()"
   ]
  },
  {
   "cell_type": "markdown",
   "id": "8e334af0",
   "metadata": {},
   "source": [
    "# Create a Sample Data Frame 📌"
   ]
  },
  {
   "cell_type": "code",
   "execution_count": 1,
   "id": "873ba5fe",
   "metadata": {},
   "outputs": [
    {
     "data": {
      "text/html": [
       "<div>\n",
       "<style scoped>\n",
       "    .dataframe tbody tr th:only-of-type {\n",
       "        vertical-align: middle;\n",
       "    }\n",
       "\n",
       "    .dataframe tbody tr th {\n",
       "        vertical-align: top;\n",
       "    }\n",
       "\n",
       "    .dataframe thead th {\n",
       "        text-align: right;\n",
       "    }\n",
       "</style>\n",
       "<table border=\"1\" class=\"dataframe\">\n",
       "  <thead>\n",
       "    <tr style=\"text-align: right;\">\n",
       "      <th></th>\n",
       "      <th>Tokyo</th>\n",
       "      <th>Beijing</th>\n",
       "    </tr>\n",
       "  </thead>\n",
       "  <tbody>\n",
       "    <tr>\n",
       "      <th>2021-01-01</th>\n",
       "      <td>3.443387</td>\n",
       "      <td>0.667992</td>\n",
       "    </tr>\n",
       "    <tr>\n",
       "      <th>2021-01-02</th>\n",
       "      <td>0.435487</td>\n",
       "      <td>1.984459</td>\n",
       "    </tr>\n",
       "    <tr>\n",
       "      <th>2021-01-03</th>\n",
       "      <td>3.183332</td>\n",
       "      <td>2.629666</td>\n",
       "    </tr>\n",
       "  </tbody>\n",
       "</table>\n",
       "</div>"
      ],
      "text/plain": [
       "               Tokyo   Beijing\n",
       "2021-01-01  3.443387  0.667992\n",
       "2021-01-02  0.435487  1.984459\n",
       "2021-01-03  3.183332  2.629666"
      ]
     },
     "execution_count": 1,
     "metadata": {},
     "output_type": "execute_result"
    }
   ],
   "source": [
    "import pandas as pd\n",
    "import numpy as np\n",
    "\n",
    "weather_df = pd.DataFrame(np.random.rand(10,2)*5,\n",
    "                          index=pd.date_range(start=\"2021-01-01\", periods=10),\n",
    "                          columns=[\"Tokyo\", \"Beijing\"])\n",
    "weather_df.head(3)"
   ]
  },
  {
   "cell_type": "markdown",
   "id": "25129098",
   "metadata": {},
   "source": [
    "# Define the Function on how you want to Style it! "
   ]
  },
  {
   "cell_type": "code",
   "execution_count": 2,
   "id": "705c4169",
   "metadata": {},
   "outputs": [],
   "source": [
    "def rain_condition(v):\n",
    "    if v < 1.75:\n",
    "        return \"Dry\"\n",
    "    elif v < 2.75:\n",
    "        return \"Rain\"\n",
    "    return \"Heavy Rain\"\n",
    "\n",
    "def make_pretty(styler):\n",
    "    styler.format(rain_condition)\n",
    "    styler.format_index(lambda v: v.strftime(\"%A\"))\n",
    "    styler.background_gradient(axis=None, vmin=1, vmax=5, cmap=\"YlGnBu\")\n",
    "    return styler"
   ]
  },
  {
   "cell_type": "markdown",
   "id": "03be9eda",
   "metadata": {},
   "source": [
    "# Use Styler to visualize the tabular data "
   ]
  },
  {
   "cell_type": "code",
   "execution_count": 3,
   "id": "fdb194c0",
   "metadata": {},
   "outputs": [
    {
     "data": {
      "text/html": [
       "<style type=\"text/css\">\n",
       "#T_6a7b3_row0_col0 {\n",
       "  background-color: #caeab4;\n",
       "  color: #000000;\n",
       "}\n",
       "#T_6a7b3_row0_col1 {\n",
       "  background-color: #2262aa;\n",
       "  color: #f1f1f1;\n",
       "}\n",
       "#T_6a7b3_row1_col0 {\n",
       "  background-color: #b9e4b5;\n",
       "  color: #000000;\n",
       "}\n",
       "#T_6a7b3_row1_col1 {\n",
       "  background-color: #ffffd9;\n",
       "  color: #000000;\n",
       "}\n",
       "#T_6a7b3_row2_col0 {\n",
       "  background-color: #269bc1;\n",
       "  color: #f1f1f1;\n",
       "}\n",
       "#T_6a7b3_row2_col1 {\n",
       "  background-color: #b0e0b6;\n",
       "  color: #000000;\n",
       "}\n",
       "#T_6a7b3_row3_col0 {\n",
       "  background-color: #55bec1;\n",
       "  color: #000000;\n",
       "}\n",
       "#T_6a7b3_row3_col1 {\n",
       "  background-color: #253997;\n",
       "  color: #f1f1f1;\n",
       "}\n",
       "#T_6a7b3_row4_col0 {\n",
       "  background-color: #203089;\n",
       "  color: #f1f1f1;\n",
       "}\n",
       "#T_6a7b3_row4_col1 {\n",
       "  background-color: #5dc0c0;\n",
       "  color: #000000;\n",
       "}\n",
       "</style>\n",
       "<table id=\"T_6a7b3\">\n",
       "  <thead>\n",
       "    <tr>\n",
       "      <th class=\"blank level0\" >&nbsp;</th>\n",
       "      <th id=\"T_6a7b3_level0_col0\" class=\"col_heading level0 col0\" >Tokyo</th>\n",
       "      <th id=\"T_6a7b3_level0_col1\" class=\"col_heading level0 col1\" >Beijing</th>\n",
       "    </tr>\n",
       "  </thead>\n",
       "  <tbody>\n",
       "    <tr>\n",
       "      <th id=\"T_6a7b3_level0_row0\" class=\"row_heading level0 row0\" >Monday</th>\n",
       "      <td id=\"T_6a7b3_row0_col0\" class=\"data row0 col0\" >Rain</td>\n",
       "      <td id=\"T_6a7b3_row0_col1\" class=\"data row0 col1\" >Heavy Rain</td>\n",
       "    </tr>\n",
       "    <tr>\n",
       "      <th id=\"T_6a7b3_level0_row1\" class=\"row_heading level0 row1\" >Tuesday</th>\n",
       "      <td id=\"T_6a7b3_row1_col0\" class=\"data row1 col0\" >Rain</td>\n",
       "      <td id=\"T_6a7b3_row1_col1\" class=\"data row1 col1\" >Dry</td>\n",
       "    </tr>\n",
       "    <tr>\n",
       "      <th id=\"T_6a7b3_level0_row2\" class=\"row_heading level0 row2\" >Wednesday</th>\n",
       "      <td id=\"T_6a7b3_row2_col0\" class=\"data row2 col0\" >Heavy Rain</td>\n",
       "      <td id=\"T_6a7b3_row2_col1\" class=\"data row2 col1\" >Rain</td>\n",
       "    </tr>\n",
       "    <tr>\n",
       "      <th id=\"T_6a7b3_level0_row3\" class=\"row_heading level0 row3\" >Thursday</th>\n",
       "      <td id=\"T_6a7b3_row3_col0\" class=\"data row3 col0\" >Heavy Rain</td>\n",
       "      <td id=\"T_6a7b3_row3_col1\" class=\"data row3 col1\" >Heavy Rain</td>\n",
       "    </tr>\n",
       "    <tr>\n",
       "      <th id=\"T_6a7b3_level0_row4\" class=\"row_heading level0 row4\" >Friday</th>\n",
       "      <td id=\"T_6a7b3_row4_col0\" class=\"data row4 col0\" >Heavy Rain</td>\n",
       "      <td id=\"T_6a7b3_row4_col1\" class=\"data row4 col1\" >Heavy Rain</td>\n",
       "    </tr>\n",
       "  </tbody>\n",
       "</table>\n"
      ],
      "text/plain": [
       "<pandas.io.formats.style.Styler at 0x7f9298966850>"
      ]
     },
     "execution_count": 3,
     "metadata": {},
     "output_type": "execute_result"
    }
   ],
   "source": [
    "weather_df.loc[\"2021-01-04\":\"2021-01-08\"].style.pipe(make_pretty)"
   ]
  },
  {
   "cell_type": "code",
   "execution_count": null,
   "id": "3009d596",
   "metadata": {},
   "outputs": [],
   "source": []
  },
  {
   "cell_type": "code",
   "execution_count": null,
   "id": "eecde092",
   "metadata": {},
   "outputs": [],
   "source": []
  }
 ],
 "metadata": {
  "kernelspec": {
   "display_name": "Python 3 (ipykernel)",
   "language": "python",
   "name": "python3"
  },
  "language_info": {
   "codemirror_mode": {
    "name": "ipython",
    "version": 3
   },
   "file_extension": ".py",
   "mimetype": "text/x-python",
   "name": "python",
   "nbconvert_exporter": "python",
   "pygments_lexer": "ipython3",
   "version": "3.9.12"
  }
 },
 "nbformat": 4,
 "nbformat_minor": 5
}
